{
 "cells": [
  {
   "cell_type": "code",
   "execution_count": null,
   "metadata": {},
   "outputs": [
    {
     "name": "stdout",
     "output_type": "stream",
     "text": [
      " * Serving Flask app \"__main__\" (lazy loading)\n",
      " * Environment: production\n",
      "   WARNING: This is a development server. Do not use it in a production deployment.\n",
      "   Use a production WSGI server instead.\n",
      " * Debug mode: on\n"
     ]
    },
    {
     "name": "stderr",
     "output_type": "stream",
     "text": [
      " * Running on http://127.0.0.1:5000/ (Press CTRL+C to quit)\n",
      "127.0.0.1 - - [08/Jan/2022 14:22:57] \"\u001b[37mGET / HTTP/1.1\u001b[0m\" 200 -\n",
      "127.0.0.1 - - [08/Jan/2022 14:22:59] \"\u001b[33mGET /favicon.ico HTTP/1.1\u001b[0m\" 404 -\n",
      "127.0.0.1 - - [08/Jan/2022 14:23:15] \"\u001b[37mPOST /submit HTTP/1.1\u001b[0m\" 200 -\n"
     ]
    },
    {
     "name": "stdout",
     "output_type": "stream",
     "text": [
      "[('Egyptian cat', 41.35151672363281), ('lynx, catamount', 15.576092720031738), ('tabby, tabby cat', 14.351587295532227), ('tiger cat', 10.5465726852417)]\n",
      "static/opencv_frame_9840.png written!\n"
     ]
    },
    {
     "name": "stderr",
     "output_type": "stream",
     "text": [
      "127.0.0.1 - - [08/Jan/2022 14:23:41] \"\u001b[37mPOST /click_image HTTP/1.1\u001b[0m\" 200 -\n"
     ]
    },
    {
     "name": "stdout",
     "output_type": "stream",
     "text": [
      "[('tench, Tinca tinca', 34.6447868347168), ('coho, cohoe, coho salmon, blue jack, silver salmon, Oncorhynchus kisutch', 33.70085525512695), ('shower cap', 1.715738296508789), ('gar, garfish, garpike, billfish, Lepisosteus osseus', 1.3448104858398438)]\n",
      "tench, Tinca tinca\n"
     ]
    },
    {
     "name": "stderr",
     "output_type": "stream",
     "text": [
      "127.0.0.1 - - [08/Jan/2022 14:23:41] \"\u001b[37mGET /static/opencv_frame_9840.png HTTP/1.1\u001b[0m\" 200 -\n"
     ]
    },
    {
     "name": "stdout",
     "output_type": "stream",
     "text": [
      "static/opencv_frame_9936.png written!\n"
     ]
    },
    {
     "name": "stderr",
     "output_type": "stream",
     "text": [
      "127.0.0.1 - - [08/Jan/2022 14:24:30] \"\u001b[37mPOST /click_image HTTP/1.1\u001b[0m\" 200 -\n",
      "127.0.0.1 - - [08/Jan/2022 14:24:30] \"\u001b[37mGET /static/opencv_frame_9936.png HTTP/1.1\u001b[0m\" 200 -\n"
     ]
    },
    {
     "name": "stdout",
     "output_type": "stream",
     "text": [
      "[('zebra', 87.37303924560547), ('chambered nautilus, pearly nautilus, nautilus', 9.150196075439453), ('lionfish', 2.842193841934204), ('tiger, Panthera tigris', 0.10806537419557571)]\n",
      "zebra\n"
     ]
    }
   ],
   "source": [
    "from flask import Flask, render_template, request\n",
    "from keras.preprocessing import image\n",
    "import matplotlib.pyplot as plt\n",
    "\n",
    "import torch\n",
    "import torchvision\n",
    "import torchvision.models as models\n",
    "from torchvision import transforms\n",
    "\n",
    "import cv2\n",
    "import time\n",
    "import random\n",
    "from PIL import Image\n",
    "\n",
    "app = Flask(__name__)\n",
    "\n",
    "# Loading pretrained model\n",
    "base_model = models.resnet18(pretrained = True)\n",
    "base_model.eval()\n",
    "\n",
    "IMAGE_WIDTH = 224\n",
    "IMAGE_HEIGHT = 224\n",
    "\n",
    "image_transform = transforms.Compose([        # Defining a variable transforms\n",
    "    transforms.Resize(256),                # Resize the image to 256×256 pixels\n",
    "    transforms.CenterCrop(224),            # Crop the image to 224×224 pixels about the center\n",
    "    transforms.ToTensor(),                 # Convert the image to PyTorch Tensor data type\n",
    "    transforms.Normalize(                  # Normalize the image\n",
    "    mean=[0.485, 0.456, 0.406],            # Mean and std of image as also used when training the network\n",
    "    std=[0.229, 0.224, 0.225]      \n",
    "    )])\n",
    "\n",
    "def predict_label(img_path):\n",
    "    image = Image.open(img_path)\n",
    "    image.resize((IMAGE_WIDTH,IMAGE_HEIGHT))\n",
    "    img = image_transform(image)\n",
    "    batch_t = torch.unsqueeze(img, 0)\n",
    "    out = base_model(batch_t)\n",
    "    with open('imagenet_classes.txt') as f:\n",
    "      classes = [line.strip() for line in f.readlines()]\n",
    "    _, indices = torch.sort(out, descending=True)\n",
    "    percentage = torch.nn.functional.softmax(out, dim=1)[0] * 100\n",
    "    ans = [(classes[idx], percentage[idx].item()) for idx in indices[0][:4]]\n",
    "    print(ans)\n",
    "    return ans[0][0]\n",
    "\n",
    "def take_picture():\n",
    "    cam = cv2.VideoCapture(0)\n",
    "    cv2.namedWindow(\"test\")\n",
    "    img_counter = random.randrange(0, 10000, 3)\n",
    "    take_one = 0;\n",
    "    while True:\n",
    "        ret, frame = cam.read()\n",
    "        if not ret:\n",
    "            print(\"failed to grab frame\")\n",
    "            break\n",
    "        cv2.imshow(\"test\", frame)\n",
    "        \n",
    "        time.sleep(2)\n",
    "        img_name = \"static/opencv_frame_{}.png\".format(img_counter)\n",
    "        cv2.imwrite(img_name, frame)\n",
    "        print(\"{} written!\".format(img_name))\n",
    "        img_counter += 1\n",
    "        take_one += 1\n",
    "\n",
    "        if take_one ==1:\n",
    "            break\n",
    "\n",
    "    cam.release()\n",
    "    cv2.destroyAllWindows()\n",
    "    \n",
    "    return img_name\n",
    "\n",
    "\n",
    "@app.route(\"/\", methods=['GET', 'POST'])\n",
    "def main():\n",
    "    return render_template(\"index.html\")\n",
    "\n",
    "@app.route(\"/about\")\n",
    "def about_page():\n",
    "    return \"Please subscribe  Artificial Intelligence Hub..!!!\"\n",
    "\n",
    "@app.route(\"/submit\", methods = ['GET', 'POST'])\n",
    "def get_output():\n",
    "    if request.method == 'POST':\n",
    "        img = request.files['my_image']\n",
    "\n",
    "        img_path = \"static/\" + img.filename\t\n",
    "        img.save(img_path)\n",
    "\n",
    "        p = predict_label(img_path)\n",
    "\n",
    "    return render_template(\"index.html\", prediction = p, img_path = img_path)\n",
    "\n",
    "@app.route(\"/click_image\",methods = ['GET','POST'])\n",
    "def take_pic():\n",
    "    if request.method == 'POST':\n",
    "        img = take_picture()\n",
    "        p = predict_label(img)\n",
    "    print(p)\n",
    "    return render_template(\"index.html\", prediction = p, img_path = img)\n",
    "\n",
    "if __name__ =='__main__':\n",
    "    #app.debug = True\n",
    "    app.run(debug = True, use_reloader=False)"
   ]
  },
  {
   "cell_type": "code",
   "execution_count": null,
   "metadata": {},
   "outputs": [],
   "source": []
  }
 ],
 "metadata": {
  "kernelspec": {
   "display_name": "Python 3",
   "language": "python",
   "name": "python3"
  },
  "language_info": {
   "codemirror_mode": {
    "name": "ipython",
    "version": 3
   },
   "file_extension": ".py",
   "mimetype": "text/x-python",
   "name": "python",
   "nbconvert_exporter": "python",
   "pygments_lexer": "ipython3",
   "version": "3.8.5"
  }
 },
 "nbformat": 4,
 "nbformat_minor": 4
}
